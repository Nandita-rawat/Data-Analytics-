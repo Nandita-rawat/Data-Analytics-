{
  "nbformat": 4,
  "nbformat_minor": 0,
  "metadata": {
    "colab": {
      "provenance": [],
      "authorship_tag": "ABX9TyM2ckSVfG3B239h4lpWrl9R",
      "include_colab_link": true
    },
    "kernelspec": {
      "name": "python3",
      "display_name": "Python 3"
    },
    "language_info": {
      "name": "python"
    }
  },
  "cells": [
    {
      "cell_type": "markdown",
      "metadata": {
        "id": "view-in-github",
        "colab_type": "text"
      },
      "source": [
        "<a href=\"https://colab.research.google.com/github/Nandita-rawat/Data-Analytics-/blob/main/Python_Baiscs.ipynb\" target=\"_parent\"><img src=\"https://colab.research.google.com/assets/colab-badge.svg\" alt=\"Open In Colab\"/></a>"
      ]
    },
    {
      "cell_type": "markdown",
      "source": [
        "# **PYTHON BASICS ASSIGNMENT**"
      ],
      "metadata": {
        "id": "LZCye12LbL8T"
      }
    },
    {
      "cell_type": "markdown",
      "source": [
        "### **1.What is Python, and why is it popular?**\n",
        "\n",
        "Python is a high-level, interpreted programming language known for its simplicity and readability. It is popular because of its ease of learning, extensive libraries, versatility, and strong community support. It is widely used in web development, data science, AI/ML, automation, and more.\n",
        "\n"
      ],
      "metadata": {
        "id": "JJwpu50wbfwd"
      }
    },
    {
      "cell_type": "markdown",
      "source": [
        "### **2.What is an interpreter in Python?**\n",
        "\n",
        "An interpreter is a program that executes Python code line by line, rather than compiling it into machine code before execution. The Python interpreter translates high-level code into bytecode and executes it in a runtime environment."
      ],
      "metadata": {
        "id": "9Sba-TRafqmX"
      }
    },
    {
      "cell_type": "markdown",
      "source": [
        "### **3.What are pre-defined keywords in Python?**\n",
        "\n",
        "Pre-defined keywords are reserved words in Python that have special meanings and cannot be used as identifiers (variable names). Examples include if, else\n",
        "\n",
        "\n",
        "\n"
      ],
      "metadata": {
        "id": "z9FrWQUybiaS"
      }
    },
    {
      "cell_type": "markdown",
      "source": [
        "### **4.Can keywords be used as variable names ?**\n",
        "\n",
        "No, keywords cannot be used as variable names because they have predefined meanings in Python"
      ],
      "metadata": {
        "id": "rOsa4SCEbuxo"
      }
    },
    {
      "cell_type": "markdown",
      "source": [
        "### **5.What is mutability in Python?**\n",
        "\n",
        "Mutability refers to whether an object's state can be changed after it is created. Mutable objects can be modified, whereas immutable objects cannot."
      ],
      "metadata": {
        "id": "Ai0t7RZXb7Gq"
      }
    },
    {
      "cell_type": "markdown",
      "source": [
        "### **6.Why are lists mutable, but tuples are immutable ?**\n",
        "\n",
        "List are mutable becuase even after creation o flist we can remove , delete , append items from the list whereas tuples are immutable because once tuples are created they cannot be changed thus no operations like remove , append , change could be performed on tuples ."
      ],
      "metadata": {
        "id": "AUp1m_98b-Ex"
      }
    },
    {
      "cell_type": "markdown",
      "source": [
        "### **7.What is the difference between “==” and “is” operators in Python ?**\n",
        "\n",
        "== checks if the value of the variables is equal\n",
        "a= 15\n",
        "b= 15\n",
        "a==b TRUE\n",
        "\n",
        "is checks if the variables are pointing to the same memory locations\n"
      ],
      "metadata": {
        "id": "1r89xnOzcChz"
      }
    },
    {
      "cell_type": "markdown",
      "source": [
        "### **8 .What are logical operators in Python?**\n",
        "\n",
        "Logical operators are used to combine conditional statements:\n",
        "\n",
        "and (Returns True if both conditions are True)\n",
        "\n",
        "or (Returns True if at least one condition is True)\n",
        "\n",
        "not (Negates a condition)\n",
        "\n",
        "###**9 .What is type casting in Python ?**\n",
        "\n",
        "Type casting is the process of converting one data type into another.\n",
        "\n",
        "\n",
        "\n",
        "\n",
        "###**10 .What is the difference between implicit and explicit type casting?**\n",
        "\n",
        "Implicit type casting: Python automatically converts a smaller data type into a larger one (e.g., int to float).\n",
        "\n",
        "Explicit type casting: The user manually converts data types using functions like int(), float(), or str().\n",
        "\n",
        "\n",
        "### **11.What is the purpose of conditional statements in Python?**\n",
        "\n",
        "Conditional statements allow decision-making in code execution by executing different blocks of code based on conditions.\n",
        "\n",
        "### **12.How does the elif statement work ?**\n",
        "\n",
        "If the if statement is not true , elif statement is check , only that piece of code is executed , rest is skipped , if elif is also not true , else code of block is executed.\n",
        "\n",
        "\n",
        "### **13.What is the difference between for and while loops ?**\n",
        "\n",
        "for loops iterate over a sequence (like lists, tuples, or strings) and are used when the number of iterations is known.\n",
        "while loops execute as long as a condition remains True, making them useful when the number of iterations is uncertain.\n",
        "\n",
        "### **14.Describe a scenario where a while loop is more suitable than a for loop?**\n",
        "\n",
        "When number of iterations are unknown while loops are more suitable for then for loop ."
      ],
      "metadata": {
        "id": "jhxOpmtYcFWC"
      }
    },
    {
      "cell_type": "code",
      "source": [
        "# Write a Python program to print \"Hello, World!\"\n",
        "print(\"Hello , World\")"
      ],
      "metadata": {
        "colab": {
          "base_uri": "https://localhost:8080/"
        },
        "id": "zgqvWi27gxQw",
        "outputId": "2afd31cc-4f22-4bb0-e544-bbbd859e8b06"
      },
      "execution_count": 1,
      "outputs": [
        {
          "output_type": "stream",
          "name": "stdout",
          "text": [
            "Hello , World\n"
          ]
        }
      ]
    },
    {
      "cell_type": "code",
      "source": [
        "# Write a Python program that displays your name and age\n",
        "name = \"Nandita\"\n",
        "age = 22\n",
        "print(\"My name is {} and my age is {}\".format(name,age))"
      ],
      "metadata": {
        "colab": {
          "base_uri": "https://localhost:8080/"
        },
        "id": "oyfsR7vIg4cR",
        "outputId": "bf97b835-c3a9-497d-cc62-f1337e89ae64"
      },
      "execution_count": 2,
      "outputs": [
        {
          "output_type": "stream",
          "name": "stdout",
          "text": [
            "My name is Nandita and my age is 22\n"
          ]
        }
      ]
    },
    {
      "cell_type": "code",
      "source": [
        "# Write code to print all the pre-defined keywords in Python using the keyword library\n",
        "import keyword\n",
        "print(keyword.kwlist)"
      ],
      "metadata": {
        "colab": {
          "base_uri": "https://localhost:8080/"
        },
        "id": "_07LKRf2hDvT",
        "outputId": "195b3637-80c2-4927-8e4b-651671f6502b"
      },
      "execution_count": 4,
      "outputs": [
        {
          "output_type": "stream",
          "name": "stdout",
          "text": [
            "['False', 'None', 'True', 'and', 'as', 'assert', 'async', 'await', 'break', 'class', 'continue', 'def', 'del', 'elif', 'else', 'except', 'finally', 'for', 'from', 'global', 'if', 'import', 'in', 'is', 'lambda', 'nonlocal', 'not', 'or', 'pass', 'raise', 'return', 'try', 'while', 'with', 'yield']\n"
          ]
        }
      ]
    },
    {
      "cell_type": "code",
      "source": [
        "# Write a program that checks if a given word is a Python keyword\n",
        "import keyword\n",
        "word = \"if\"\n",
        "if keyword.iskeyword(word):\n",
        "  print(\"{} is a keyword\".format(word))\n",
        "else:\n",
        "  print(\"{} is not a keyword\".format(word))\n",
        ""
      ],
      "metadata": {
        "colab": {
          "base_uri": "https://localhost:8080/"
        },
        "id": "J8q2fsUNhH3q",
        "outputId": "81234a3f-deae-4373-cc01-8d528d270427"
      },
      "execution_count": 7,
      "outputs": [
        {
          "output_type": "stream",
          "name": "stdout",
          "text": [
            "if is a keyword\n"
          ]
        }
      ]
    },
    {
      "cell_type": "code",
      "source": [
        "# Create a list and tuple in Python, and demonstrate how attempting to change an element works differently for each\n",
        "list = [1,2,3]\n",
        "# this works since mutable\n",
        "list.append(4)\n",
        "list\n",
        "\n",
        "tuple = (1,2,3)\n",
        "# this will throw an error since immutable\n",
        "tuple.append(4)\n",
        "tuple"
      ],
      "metadata": {
        "colab": {
          "base_uri": "https://localhost:8080/",
          "height": 193
        },
        "id": "74GvtqbahsgE",
        "outputId": "3a30d039-1488-43d9-84e1-1d7a1a65ab59"
      },
      "execution_count": 9,
      "outputs": [
        {
          "output_type": "error",
          "ename": "AttributeError",
          "evalue": "'tuple' object has no attribute 'append'",
          "traceback": [
            "\u001b[0;31m---------------------------------------------------------------------------\u001b[0m",
            "\u001b[0;31mAttributeError\u001b[0m                            Traceback (most recent call last)",
            "\u001b[0;32m<ipython-input-9-22b8ac550f92>\u001b[0m in \u001b[0;36m<cell line: 0>\u001b[0;34m()\u001b[0m\n\u001b[1;32m      5\u001b[0m \u001b[0;34m\u001b[0m\u001b[0m\n\u001b[1;32m      6\u001b[0m \u001b[0mtuple\u001b[0m \u001b[0;34m=\u001b[0m \u001b[0;34m(\u001b[0m\u001b[0;36m1\u001b[0m\u001b[0;34m,\u001b[0m\u001b[0;36m2\u001b[0m\u001b[0;34m,\u001b[0m\u001b[0;36m3\u001b[0m\u001b[0;34m)\u001b[0m\u001b[0;34m\u001b[0m\u001b[0;34m\u001b[0m\u001b[0m\n\u001b[0;32m----> 7\u001b[0;31m \u001b[0mtuple\u001b[0m\u001b[0;34m.\u001b[0m\u001b[0mappend\u001b[0m\u001b[0;34m(\u001b[0m\u001b[0;36m4\u001b[0m\u001b[0;34m)\u001b[0m\u001b[0;34m\u001b[0m\u001b[0;34m\u001b[0m\u001b[0m\n\u001b[0m\u001b[1;32m      8\u001b[0m \u001b[0mtuple\u001b[0m\u001b[0;34m\u001b[0m\u001b[0;34m\u001b[0m\u001b[0m\n",
            "\u001b[0;31mAttributeError\u001b[0m: 'tuple' object has no attribute 'append'"
          ]
        }
      ]
    },
    {
      "cell_type": "code",
      "source": [
        "# Write a function to demonstrate the behavior of mutable and immutable arguments\n",
        "def modify_immutable(x):\n",
        "    x += 10\n",
        "    return x\n",
        "\n",
        "def modify_mutable(lst):\n",
        "    lst.append(100)\n",
        "\n",
        "\n",
        "num = 5\n",
        "print(\"Before:\", num)\n",
        "num = modify_immutable(num)\n",
        "print(\"After:\", num)\n",
        "\n",
        "\n",
        "my_list = [1, 2, 3]\n",
        "print(\"\\nBefore:\", my_list)\n",
        "modify_mutable(my_list)\n",
        "print(\"After:\", my_list)\n",
        "\n"
      ],
      "metadata": {
        "colab": {
          "base_uri": "https://localhost:8080/"
        },
        "id": "R47JZEuSiFPq",
        "outputId": "d66cf30c-350c-45d6-9f8c-708d66a7d648"
      },
      "execution_count": 10,
      "outputs": [
        {
          "output_type": "stream",
          "name": "stdout",
          "text": [
            "Before: 5\n",
            "After: 15\n",
            "\n",
            "Before: [1, 2, 3]\n",
            "After: [1, 2, 3, 100]\n"
          ]
        }
      ]
    },
    {
      "cell_type": "code",
      "source": [
        "# Write a program to demonstrate the use of logical operators\n",
        "a = True\n",
        "b = False\n",
        "print(a and b)\n",
        "print(a or b)\n",
        "print(not a )"
      ],
      "metadata": {
        "colab": {
          "base_uri": "https://localhost:8080/"
        },
        "id": "ncuCGygniSOb",
        "outputId": "3be92c7a-c5a4-4fb8-e53e-623ce68ac3d9"
      },
      "execution_count": 9,
      "outputs": [
        {
          "output_type": "stream",
          "name": "stdout",
          "text": [
            "False\n",
            "True\n",
            "False\n"
          ]
        }
      ]
    },
    {
      "cell_type": "code",
      "source": [
        "# Write a Python program to convert user input from string to integer, float, and boolean types\n",
        "\n",
        "user_input = input(\"enter a number \")\n",
        "\n",
        "print(int(user_input))\n",
        "print(float(user_input))\n",
        "print(bool(user_input))"
      ],
      "metadata": {
        "colab": {
          "base_uri": "https://localhost:8080/"
        },
        "id": "trvFeGs_mOWL",
        "outputId": "6d6c7ee2-a40a-4b31-a986-de31cd7ef395"
      },
      "execution_count": 5,
      "outputs": [
        {
          "output_type": "stream",
          "name": "stdout",
          "text": [
            "enter a number 10\n",
            "10\n",
            "10.0\n",
            "True\n"
          ]
        }
      ]
    },
    {
      "cell_type": "code",
      "source": [
        "# Write code to demonstrate type casting with list elements\n",
        "\n",
        "str_list = [\"10\", \"20.5\", \"56\", \"40\"]\n",
        "\n",
        "\n",
        "int_list = [int(float(item)) for item in str_list]\n",
        "print(\"Integer List:\", int_list)\n",
        "\n",
        "\n",
        "float_list = [float(item) for item in str_list]\n",
        "print(\"Float List:\", float_list)\n",
        "\n",
        "\n",
        "bool_list = [bool(item) for item in str_list]\n",
        "print(\"Boolean List:\", bool_list)\n",
        "\n",
        "\n"
      ],
      "metadata": {
        "colab": {
          "base_uri": "https://localhost:8080/"
        },
        "id": "8wsGPDftmTGO",
        "outputId": "7719c017-6309-45ae-84be-42d638f09065"
      },
      "execution_count": 8,
      "outputs": [
        {
          "output_type": "stream",
          "name": "stdout",
          "text": [
            "Integer List: [10, 20, 56, 40]\n",
            "Float List: [10.0, 20.5, 56.0, 40.0]\n",
            "Boolean List: [True, True, True, True]\n"
          ]
        }
      ]
    },
    {
      "cell_type": "code",
      "source": [
        "#  Write a program that checks if a number is positive, negative, or zero\n",
        "number = int(input(\"Enter a number: \"))\n",
        "\n",
        "if number > 0:\n",
        "  print(\"{} is a positive number\".format(number))\n",
        "elif number < 0:\n",
        "  print(\"{} is a negative number\".format(number))\n",
        "else:\n",
        "  print(\"{} is zero\".format(number))"
      ],
      "metadata": {
        "id": "XfabFY5JbtV0"
      },
      "execution_count": null,
      "outputs": []
    },
    {
      "cell_type": "code",
      "source": [
        "#  Write a for loop to print numbers from 1 to 10\n",
        "for i in range(1,11):\n",
        "    print(i)"
      ],
      "metadata": {
        "id": "bG1gPuUvjdYm"
      },
      "execution_count": null,
      "outputs": []
    },
    {
      "cell_type": "code",
      "source": [
        "#   Write a Python program to find the sum of all even numbers between 1 and 50\n",
        "sum= 0\n",
        "for i in range(1,51):\n",
        "    if i%2==0:\n",
        "        sum = sum +i\n",
        "        print(sum)"
      ],
      "metadata": {
        "id": "LM6XkCyij4S4"
      },
      "execution_count": null,
      "outputs": []
    },
    {
      "cell_type": "code",
      "source": [
        "#  Write a program to reverse a string using a while loop\n",
        "\n",
        "string = input(\"Enter a string: \")\n",
        "\n",
        "\n",
        "reversed_string = \"\"\n",
        "\n",
        "\n",
        "index = len(string) - 1\n",
        "\n",
        "\n",
        "while index >= 0:\n",
        "    reversed_string += string[index]\n",
        "    index -= 1\n",
        "\n",
        "print(\"Reversed string:\", reversed_string)\n"
      ],
      "metadata": {
        "id": "jFTTamwCkOi9"
      },
      "execution_count": null,
      "outputs": []
    },
    {
      "cell_type": "code",
      "source": [
        "# Write a Python program to calculate the factorial of a number provided by the user using a while loop.\n",
        "\n",
        "\n",
        "num = int(input(\"Enter the number : \"))\n",
        "fact = 1\n",
        "\n",
        "while (num != 0):\n",
        "  fact = fact *num\n",
        "  num -= 1\n",
        "\n",
        "print(\"Factorial of {} is {}\".format(num , fact))"
      ],
      "metadata": {
        "id": "ka1fBjWrk8ZW"
      },
      "execution_count": null,
      "outputs": []
    },
    {
      "cell_type": "code",
      "source": [],
      "metadata": {
        "id": "0b4e9BijlpZ3"
      },
      "execution_count": null,
      "outputs": []
    }
  ]
}